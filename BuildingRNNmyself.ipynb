{
 "cells": [
  {
   "cell_type": "code",
   "execution_count": 3,
   "metadata": {},
   "outputs": [],
   "source": [
    "import numpy as np\n",
    "from rnn_utils import *"
   ]
  },
  {
   "cell_type": "code",
   "execution_count": 4,
   "metadata": {},
   "outputs": [],
   "source": [
    "def rnn_cell_forward(xt,a_prev,parameters):\n",
    "    Wax=parameters[\"Wax\"]\n",
    "    Waa=parameters[\"Waa\"]\n",
    "    Wya=parameters[\"Wya\"]\n",
    "    ba=parameters[\"ba\"]\n",
    "    by=parameters[\"by\"]\n",
    "    \n",
    "    a_next=np.tanh(np.dot(Wax,xt)+np.dot(Waa,a_prev)+ba)\n",
    "    yt_pred=softmax(np.dot(Wya,a_next)+by)\n",
    "    \n",
    "    cache=(a_next,a_prev,xt,parameters)\n",
    "    \n",
    "    return a_next,yt_pred,cache"
   ]
  },
  {
   "cell_type": "code",
   "execution_count": 5,
   "metadata": {},
   "outputs": [
    {
     "name": "stdout",
     "output_type": "stream",
     "text": [
      "[[-0.91471693 -0.27983091  0.11655588  0.34726947 -0.53271145 -0.6024898\n",
      "  -0.91983988 -0.7770243  -0.88648039  0.81372245]\n",
      " [ 0.91377782 -0.70776084 -0.93744528  0.11238651  0.29626403 -0.21224351\n",
      "   0.97277787  0.92701397  0.06888247 -0.88741422]\n",
      " [-0.9798283  -0.97558689 -0.53644648  0.7429573  -0.85359363 -0.85223116\n",
      "  -0.99862138 -0.68342786 -0.95931911 -0.56688935]\n",
      " [ 0.9999415  -0.99874139 -0.72068587  0.73196147  0.99819892 -0.99904874\n",
      "   0.99823552 -0.890253   -0.99378686  0.98544495]\n",
      " [-0.97683053  0.99993218  0.9999085   0.99720415  0.96532437  0.24615069\n",
      "   0.89433073  0.88371261  0.40821569 -0.99446565]]\n",
      "a_next[4]=  [-0.97683053  0.99993218  0.9999085   0.99720415  0.96532437  0.24615069\n",
      "  0.89433073  0.88371261  0.40821569 -0.99446565]\n",
      "a_next.shape=  (5, 10)\n",
      "[[9.38260594e-01 2.76729993e-03 1.05234887e-02 1.74679122e-01\n",
      "  1.90096488e-01 1.09305520e-02 7.38342107e-02 2.59850230e-04\n",
      "  4.73878918e-03 9.94823020e-01]\n",
      " [6.17394061e-02 9.97232700e-01 9.89476511e-01 8.25320878e-01\n",
      "  8.09903512e-01 9.89069448e-01 9.26165789e-01 9.99740150e-01\n",
      "  9.95261211e-01 5.17697957e-03]]\n",
      "yt_pred[1] = [0.06173941 0.9972327  0.98947651 0.82532088 0.80990351 0.98906945\n",
      " 0.92616579 0.99974015 0.99526121 0.00517698]\n",
      "yt_pred.shape=  (2, 10)\n"
     ]
    }
   ],
   "source": [
    "np.random.seed(1)\n",
    "xt=np.random.randn(3,10)\n",
    "a_prev=np.random.randn(5,10)\n",
    "Wax=np.random.randn(5,3)\n",
    "Waa=np.random.randn(5,5)\n",
    "Wya=np.random.randn(2,5)\n",
    "ba=np.random.randn(5,1)\n",
    "by=np.random.randn(2,1)\n",
    "\n",
    "parameters={\"Waa\":Waa,\n",
    "           \"Wax\":Wax,\n",
    "           \"Wya\":Wya,\n",
    "           \"by\":by,\n",
    "           \"ba\":ba}\n",
    "\n",
    "a_next,yt_pred,cache=rnn_cell_forward(xt,a_prev,parameters)\n",
    "\n",
    "print(a_next)\n",
    "print(\"a_next[4]= \",a_next[4])\n",
    "print(\"a_next.shape= \",a_next.shape)\n",
    "print(yt_pred)\n",
    "print(\"yt_pred[1] =\",yt_pred[1])\n",
    "print(\"yt_pred.shape= \",yt_pred.shape)"
   ]
  },
  {
   "cell_type": "code",
   "execution_count": 6,
   "metadata": {},
   "outputs": [],
   "source": [
    "def rnn_forward(x,a0,parameters):\n",
    "    caches=[]\n",
    "    n_x,m,T_x=x.shape\n",
    "    n_y,n_a=parameters[\"Wya\"].shape\n",
    "    a=np.zeros((n_a,m,T_x))\n",
    "    y_pred=np.zeros((n_y,m,T_x))\n",
    "    \n",
    "    a_next=a0\n",
    "    \n",
    "    for t in range(T_x):\n",
    "        a_next,yt_pred,cache=rnn_cell_forward(x[:,:,t],a_next,parameters)\n",
    "        a[:,:,t]=a_next\n",
    "        y_pred[:,:,t]=yt_pred\n",
    "        caches.append(cache)\n",
    "        \n",
    "    caches=(caches,x)\n",
    "    \n",
    "    return a,y_pred,caches\n",
    "\n"
   ]
  },
  {
   "cell_type": "code",
   "execution_count": 7,
   "metadata": {},
   "outputs": [
    {
     "name": "stdout",
     "output_type": "stream",
     "text": [
      "a[4][1] =  [-0.99999375  0.77911235 -0.99861469 -0.99833267]\n",
      "a.shape =  (5, 10, 4)\n",
      "y_pred[1][3] = [0.79560373 0.86224861 0.11118257 0.81515947]\n",
      "y_pred.shape =  (2, 10, 4)\n",
      "caches[1][1][3] = [-1.1425182  -0.34934272 -0.20889423  0.58662319]\n",
      "len(caches) =  2\n"
     ]
    }
   ],
   "source": [
    "np.random.seed(1)\n",
    "x=np.random.randn(3,10,4)\n",
    "a0=np.random.randn(5,10)\n",
    "Waa=np.random.randn(5,5)\n",
    "Wax=np.random.randn(5,3)\n",
    "Wya=np.random.randn(2,5)\n",
    "ba=np.random.randn(5,1)\n",
    "by=np.random.randn(2,1)\n",
    "\n",
    "parameters = {\"Waa\": Waa, \"Wax\": Wax, \"Wya\": Wya, \"ba\": ba, \"by\": by}\n",
    "\n",
    "a, y_pred, caches = rnn_forward(x, a0, parameters)\n",
    "print(\"a[4][1] = \", a[4][1])\n",
    "print(\"a.shape = \", a.shape)\n",
    "print(\"y_pred[1][3] =\", y_pred[1][3])\n",
    "print(\"y_pred.shape = \", y_pred.shape)\n",
    "print(\"caches[1][1][3] =\", caches[1][1][3])\n",
    "print(\"len(caches) = \", len(caches))\n"
   ]
  },
  {
   "cell_type": "code",
   "execution_count": 8,
   "metadata": {},
   "outputs": [],
   "source": [
    "def lstm_cell_forward(xt,a_prev,c_prev,parameters):\n",
    "    Wf=parameters[\"Wf\"]\n",
    "    bf=parameters[\"bf\"]\n",
    "    Wi=parameters[\"Wi\"]\n",
    "    bi=parameters[\"bi\"]\n",
    "    Wc=parameters[\"Wc\"]\n",
    "    bc=parameters[\"bc\"]\n",
    "    Wo=parameters[\"Wo\"]\n",
    "    bo=parameters[\"bo\"]\n",
    "    Wy=parameters[\"Wy\"]\n",
    "    by=parameters[\"by\"]\n",
    "    \n",
    "    n_x,m=xt.shape\n",
    "    n_y,n_a=Wy.shape\n",
    "    \n",
    "    concat=np.zeros((n_a+n_x,m))\n",
    "    concat[: n_a,:]=a_prev\n",
    "    concat[n_a :,:]=xt\n",
    "    \n",
    "    ft=sigmoid(np.dot(Wf,concat)+bf)\n",
    "    it=sigmoid(np.dot(Wi,concat)+bi)\n",
    "    cct=np.tanh(np.dot(Wc,concat)+bc)\n",
    "    c_next=ft*c_prev+it*cct\n",
    "    ot=sigmoid(np.dot(Wo,concat)+bo)\n",
    "    a_next=ot*np.tanh(c_next)\n",
    "    \n",
    "    yt_pred=softmax(np.dot(Wy,a_next)+by)\n",
    "    \n",
    "    cache=(a_next,c_next,a_prev,c_prev,ft,it,cct,ot,xt,parameters)\n",
    "    \n",
    "    return a_next,c_next,yt_pred,cache"
   ]
  },
  {
   "cell_type": "code",
   "execution_count": 9,
   "metadata": {},
   "outputs": [
    {
     "name": "stdout",
     "output_type": "stream",
     "text": [
      "a_next[4] =  [-0.66408471  0.0036921   0.02088357  0.22834167 -0.85575339  0.00138482\n",
      "  0.76566531  0.34631421 -0.00215674  0.43827275]\n",
      "a_next.shape =  (5, 10)\n",
      "c_next[2] =  [ 0.63267805  1.00570849  0.35504474  0.20690913 -1.64566718  0.11832942\n",
      "  0.76449811 -0.0981561  -0.74348425 -0.26810932]\n",
      "c_next.shape =  (5, 10)\n",
      "yt[1] = [0.79913913 0.15986619 0.22412122 0.15606108 0.97057211 0.31146381\n",
      " 0.00943007 0.12666353 0.39380172 0.07828381]\n",
      "yt.shape =  (2, 10)\n",
      "cache[1][3] = [-0.16263996  1.03729328  0.72938082 -0.54101719  0.02752074 -0.30821874\n",
      "  0.07651101 -1.03752894  1.41219977 -0.37647422]\n",
      "len(cache) =  10\n"
     ]
    }
   ],
   "source": [
    "np.random.seed(1)\n",
    "xt=np.random.randn(3,10)\n",
    "a_prev=np.random.randn(5,10)\n",
    "c_prev=np.random.randn(5,10)\n",
    "Wf = np.random.randn(5, 5+3)\n",
    "bf = np.random.randn(5,1)\n",
    "Wi = np.random.randn(5, 5+3)\n",
    "bi = np.random.randn(5,1)\n",
    "Wo = np.random.randn(5, 5+3)\n",
    "bo = np.random.randn(5,1)\n",
    "Wc = np.random.randn(5, 5+3)\n",
    "bc = np.random.randn(5,1)\n",
    "Wy = np.random.randn(2,5)\n",
    "by = np.random.randn(2,1)\n",
    "\n",
    "parameters = {\"Wf\": Wf, \"Wi\": Wi, \"Wo\": Wo, \"Wc\": Wc, \"Wy\": Wy, \"bf\": bf, \"bi\": bi, \"bo\": bo, \"bc\": bc, \"by\": by}\n",
    "\n",
    "a_next, c_next, yt, cache = lstm_cell_forward(xt, a_prev, c_prev, parameters)\n",
    "print(\"a_next[4] = \", a_next[4])\n",
    "print(\"a_next.shape = \", c_next.shape)\n",
    "print(\"c_next[2] = \", c_next[2])\n",
    "print(\"c_next.shape = \", c_next.shape)\n",
    "print(\"yt[1] =\", yt[1])\n",
    "print(\"yt.shape = \", yt.shape)\n",
    "print(\"cache[1][3] =\", cache[1][3])\n",
    "print(\"len(cache) = \", len(cache))\n"
   ]
  },
  {
   "cell_type": "code",
   "execution_count": 12,
   "metadata": {},
   "outputs": [],
   "source": [
    "def lstm_forward(x,a0,parameters):\n",
    "    caches=[]\n",
    "    \n",
    "    n_x,m,T_x=x.shape\n",
    "    n_y,n_a=parameters[\"Wy\"].shape\n",
    "    \n",
    "    a=np.zeros((n_a,m,T_x))\n",
    "    c=np.zeros((n_a,m,T_x))\n",
    "    y=np.zeros((n_y,m,T_x))\n",
    "    \n",
    "    a_next=a0\n",
    "    c_next=np.zeros(a_next.shape)\n",
    "    \n",
    "    for t in range(T_x):\n",
    "        a_next,c_next,yt,cache=lstm_cell_forward(x[:,:,t],a_next,c_next,parameters)\n",
    "        a[:,:,t]=a_next\n",
    "        c[:,:,t]=c_next\n",
    "        y[:,:,t]=yt\n",
    "        \n",
    "        caches.append(cache)\n",
    "    \n",
    "    caches=(cache,x)\n",
    "    \n",
    "    return a,y,c,caches"
   ]
  },
  {
   "cell_type": "code",
   "execution_count": 13,
   "metadata": {},
   "outputs": [
    {
     "name": "stdout",
     "output_type": "stream",
     "text": [
      "a[4][3][6] =  0.17211776753291672\n",
      "a.shape =  (5, 10, 7)\n",
      "y[1][4][3] = 0.9508734618501101\n",
      "y.shape =  (2, 10, 7)\n",
      "caches[1][1[1]] = [ 0.82797464  0.23009474  0.76201118 -0.22232814 -0.20075807  0.18656139\n",
      "  0.41005165]\n",
      "c[1][2][1] -0.8555449167181982\n",
      "len(caches) =  2\n"
     ]
    }
   ],
   "source": [
    "np.random.seed(1)\n",
    "x = np.random.randn(3,10,7)\n",
    "a0 = np.random.randn(5,10)\n",
    "Wf = np.random.randn(5, 5+3)\n",
    "bf = np.random.randn(5,1)\n",
    "Wi = np.random.randn(5, 5+3)\n",
    "bi = np.random.randn(5,1)\n",
    "Wo = np.random.randn(5, 5+3)\n",
    "bo = np.random.randn(5,1)\n",
    "Wc = np.random.randn(5, 5+3)\n",
    "bc = np.random.randn(5,1)\n",
    "Wy = np.random.randn(2,5)\n",
    "by = np.random.randn(2,1)\n",
    "\n",
    "parameters = {\"Wf\": Wf, \"Wi\": Wi, \"Wo\": Wo, \"Wc\": Wc, \"Wy\": Wy, \"bf\": bf, \"bi\": bi, \"bo\": bo, \"bc\": bc, \"by\": by}\n",
    "\n",
    "a, y, c, caches = lstm_forward(x, a0, parameters)\n",
    "print(\"a[4][3][6] = \", a[4][3][6])\n",
    "print(\"a.shape = \", a.shape)\n",
    "print(\"y[1][4][3] =\", y[1][4][3])\n",
    "print(\"y.shape = \", y.shape)\n",
    "print(\"caches[1][1[1]] =\", caches[1][1][1])\n",
    "print(\"c[1][2][1]\", c[1][2][1])\n",
    "print(\"len(caches) = \", len(caches))\n"
   ]
  },
  {
   "cell_type": "code",
   "execution_count": null,
   "metadata": {},
   "outputs": [],
   "source": []
  }
 ],
 "metadata": {
  "kernelspec": {
   "display_name": "Python 3",
   "language": "python",
   "name": "python3"
  },
  "language_info": {
   "codemirror_mode": {
    "name": "ipython",
    "version": 3
   },
   "file_extension": ".py",
   "mimetype": "text/x-python",
   "name": "python",
   "nbconvert_exporter": "python",
   "pygments_lexer": "ipython3",
   "version": "3.7.4"
  }
 },
 "nbformat": 4,
 "nbformat_minor": 2
}
